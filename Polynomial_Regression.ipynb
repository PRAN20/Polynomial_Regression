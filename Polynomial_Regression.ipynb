{
  "nbformat": 4,
  "nbformat_minor": 0,
  "metadata": {
    "colab": {
      "name": "Polynomial_Regression.ipynb",
      "provenance": [],
      "authorship_tag": "ABX9TyM7VusRAoPzAPuXj1C9B/0a",
      "include_colab_link": true
    },
    "kernelspec": {
      "name": "python3",
      "display_name": "Python 3"
    },
    "language_info": {
      "name": "python"
    }
  },
  "cells": [
    {
      "cell_type": "markdown",
      "metadata": {
        "id": "view-in-github",
        "colab_type": "text"
      },
      "source": [
        "<a href=\"https://colab.research.google.com/github/PRAN20/Polynomial_Regression/blob/main/Polynomial_Regression.ipynb\" target=\"_parent\"><img src=\"https://colab.research.google.com/assets/colab-badge.svg\" alt=\"Open In Colab\"/></a>"
      ]
    },
    {
      "cell_type": "markdown",
      "source": [
        "**Importing Header Files**"
      ],
      "metadata": {
        "id": "WY-pJds1mKvy"
      }
    },
    {
      "cell_type": "code",
      "execution_count": 2,
      "metadata": {
        "id": "OU7IcI4Ql1B0"
      },
      "outputs": [],
      "source": [
        "import numpy as np\n",
        "import pandas as ps\n",
        "import matplotlib.pyplot as mt"
      ]
    },
    {
      "cell_type": "markdown",
      "source": [
        "**Importing Datasets**"
      ],
      "metadata": {
        "id": "VO7NihhYmZ-p"
      }
    },
    {
      "cell_type": "code",
      "source": [
        "dataset = ps.read_csv('Position_Salaries.csv')\n",
        "x = dataset.iloc[:, 1:-1].values\n",
        "y = dataset.iloc[ :, -1].values"
      ],
      "metadata": {
        "id": "7D4Z7N_bmdAy"
      },
      "execution_count": 15,
      "outputs": []
    },
    {
      "cell_type": "markdown",
      "source": [
        "**Printing Datasets**"
      ],
      "metadata": {
        "id": "rMEmW-F6nKeJ"
      }
    },
    {
      "cell_type": "code",
      "source": [
        "print(x)"
      ],
      "metadata": {
        "colab": {
          "base_uri": "https://localhost:8080/"
        },
        "id": "II2wO8winPTN",
        "outputId": "be1e62f4-1302-4e13-f995-2e8c2ce91811"
      },
      "execution_count": 16,
      "outputs": [
        {
          "output_type": "stream",
          "name": "stdout",
          "text": [
            "[[ 1]\n",
            " [ 2]\n",
            " [ 3]\n",
            " [ 4]\n",
            " [ 5]\n",
            " [ 6]\n",
            " [ 7]\n",
            " [ 8]\n",
            " [ 9]\n",
            " [10]]\n"
          ]
        }
      ]
    },
    {
      "cell_type": "code",
      "source": [
        "print(y)"
      ],
      "metadata": {
        "colab": {
          "base_uri": "https://localhost:8080/"
        },
        "id": "e2jUOupmnSdn",
        "outputId": "81fad2c9-99a8-4762-dd2c-3a570107af8f"
      },
      "execution_count": 7,
      "outputs": [
        {
          "output_type": "stream",
          "name": "stdout",
          "text": [
            "[  45000   50000   60000   80000  110000  150000  200000  300000  500000\n",
            " 1000000]\n"
          ]
        }
      ]
    },
    {
      "cell_type": "markdown",
      "source": [
        "**Training Linear Regression Model**"
      ],
      "metadata": {
        "id": "y0IB9XAlrZaB"
      }
    },
    {
      "cell_type": "code",
      "source": [
        "from sklearn.linear_model import LinearRegression\n",
        "lin_reg = LinearRegression()\n",
        "lin_reg.fit(x, y)"
      ],
      "metadata": {
        "colab": {
          "base_uri": "https://localhost:8080/"
        },
        "id": "Kjd7UVDtre3M",
        "outputId": "cbb0245f-b802-41bf-a8ce-7cc011c9f3e1"
      },
      "execution_count": 17,
      "outputs": [
        {
          "output_type": "execute_result",
          "data": {
            "text/plain": [
              "LinearRegression()"
            ]
          },
          "metadata": {},
          "execution_count": 17
        }
      ]
    },
    {
      "cell_type": "markdown",
      "source": [
        "**Training Polynomial Regression Model**"
      ],
      "metadata": {
        "id": "oaeT_kr4tciN"
      }
    },
    {
      "cell_type": "code",
      "source": [
        "from sklearn.preprocessing import PolynomialFeatures\n",
        "poly_reg = PolynomialFeatures(degree = 4)\n",
        "x_poly = poly_reg.fit_transform(x)\n",
        "lin_reg2 = LinearRegression()\n",
        "lin_reg2.fit(x_poly, y)"
      ],
      "metadata": {
        "colab": {
          "base_uri": "https://localhost:8080/"
        },
        "id": "OzTDQ_nJthlq",
        "outputId": "12d5b3f2-b8b7-4f49-c6ea-d047ac94d3d2"
      },
      "execution_count": 50,
      "outputs": [
        {
          "output_type": "execute_result",
          "data": {
            "text/plain": [
              "LinearRegression()"
            ]
          },
          "metadata": {},
          "execution_count": 50
        }
      ]
    },
    {
      "cell_type": "markdown",
      "source": [
        "**Visualising the Required values on Chart**"
      ],
      "metadata": {
        "id": "QfSOLnTUxEQY"
      }
    },
    {
      "cell_type": "code",
      "source": [
        "mt.scatter(x, y , color = 'red')\n",
        "mt.plot(x, lin_reg.predict(x), color = 'blue')\n",
        "mt.title('Truth or Bluff')\n",
        "mt.xlabel('Position Level')\n",
        "mt.ylabel('Salary')\n",
        "mt.show()\n"
      ],
      "metadata": {
        "colab": {
          "base_uri": "https://localhost:8080/",
          "height": 295
        },
        "id": "DpN6BAKyxV0N",
        "outputId": "9e72c56a-20c0-4a34-88c7-9c711505b6fa"
      },
      "execution_count": 25,
      "outputs": [
        {
          "output_type": "display_data",
          "data": {
            "image/png": "[encoded data removed]",
            "text/plain": [
              "<Figure size 432x288 with 1 Axes>"
            ]
          },
          "metadata": {
            "needs_background": "light"
          }
        }
      ]
    },
    {
      "cell_type": "markdown",
      "source": [
        "**Visualising Polynomial Regression**"
      ],
      "metadata": {
        "id": "JWvDwkmm2ysv"
      }
    },
    {
      "cell_type": "code",
      "source": [
        "mt.scatter(x, y , color = 'red')\n",
        "mt.plot(x, lin_reg2.predict(poly_reg.fit_transform(x)), color = 'blue')\n",
        "mt.title('Polynomial Regression Truth or Bluff')\n",
        "mt.xlabel('Position Level')\n",
        "mt.ylabel('Salary')\n",
        "mt.show()\n"
      ],
      "metadata": {
        "colab": {
          "base_uri": "https://localhost:8080/",
          "height": 295
        },
        "id": "JRdkSmLU241L",
        "outputId": "e5ba86eb-3c59-4a8d-b2f8-25a36e352e25"
      },
      "execution_count": 51,
      "outputs": [
        {
          "output_type": "display_data",
          "data": {
            "image/png": "[encoded data removed]",
            "text/plain": [
              "<Figure size 432x288 with 1 Axes>"
            ]
          },
          "metadata": {
            "needs_background": "light"
          }
        }
      ]
    },
    {
      "cell_type": "markdown",
      "source": [
        "**Making the Curve more Presentable**"
      ],
      "metadata": {
        "id": "MUQjkvMS_IOf"
      }
    },
    {
      "cell_type": "code",
      "source": [
        "X_grid = np.arange(min(x), max(x), 0.1)\n",
        "X_grid = X_grid.reshape((len(X_grid), 1))\n",
        "mt.scatter(x, y, color = 'red')\n",
        "mt.plot(X_grid, lin_reg2.predict(poly_reg.fit_transform(X_grid)), color = 'blue')\n",
        "mt.title('Truth or Bluff (Polynomial Regression)')\n",
        "mt.xlabel('Position level')\n",
        "mt.ylabel('Salary')\n",
        "mt.show()"
      ],
      "metadata": {
        "colab": {
          "base_uri": "https://localhost:8080/",
          "height": 295
        },
        "id": "1l1HEnx__PBH",
        "outputId": "107bcb90-6116-4ee3-c5dc-b28638ae2b6e"
      },
      "execution_count": 52,
      "outputs": [
        {
          "output_type": "display_data",
          "data": {
            "image/png": "[encoded data removed]",
            "text/plain": [
              "<Figure size 432x288 with 1 Axes>"
            ]
          },
          "metadata": {
            "needs_background": "light"
          }
        }
      ]
    },
    {
      "cell_type": "markdown",
      "source": [
        "**Predicting the Salary using Linear Regression**"
      ],
      "metadata": {
        "id": "7jiLxjGo_pVl"
      }
    },
    {
      "cell_type": "code",
      "source": [
        "lin_reg.predict([[6.5]])"
      ],
      "metadata": {
        "colab": {
          "base_uri": "https://localhost:8080/"
        },
        "id": "TzBA6RdN__dC",
        "outputId": "acf1ec16-1d50-4245-be99-a20bc3898e87"
      },
      "execution_count": 47,
      "outputs": [
        {
          "output_type": "execute_result",
          "data": {
            "text/plain": [
              "array([330378.78787879])"
            ]
          },
          "metadata": {},
          "execution_count": 47
        }
      ]
    },
    {
      "cell_type": "markdown",
      "source": [
        "**Predicting the Salary using Polynomial Regression**"
      ],
      "metadata": {
        "id": "4BKhCUdWFDjs"
      }
    },
    {
      "cell_type": "code",
      "source": [
        "lin_reg2.predict(poly_reg.fit_transform([[6.5]]))"
      ],
      "metadata": {
        "colab": {
          "base_uri": "https://localhost:8080/"
        },
        "id": "XahtQxvnFLYw",
        "outputId": "e77fc988-6125-4e1c-910a-0b4ef2aaa793"
      },
      "execution_count": 53,
      "outputs": [
        {
          "output_type": "execute_result",
          "data": {
            "text/plain": [
              "array([158862.45265155])"
            ]
          },
          "metadata": {},
          "execution_count": 53
        }
      ]
    }
  ]
}